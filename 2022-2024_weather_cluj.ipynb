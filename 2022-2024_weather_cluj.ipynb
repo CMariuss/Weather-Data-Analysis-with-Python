{
 "cells": [
  {
   "cell_type": "markdown",
   "metadata": {},
   "source": [
    "### Import necesary libraries"
   ]
  },
  {
   "cell_type": "code",
   "execution_count": 2,
   "metadata": {},
   "outputs": [],
   "source": [
    "import numpy as np\n",
    "import pandas as pd\n",
    "import seaborn as sns\n",
    "import matplotlib.pyplot as plt\n",
    "from matplotlib.ticker import FuncFormatter\n",
    "\n",
    "sns.set_theme()"
   ]
  },
  {
   "cell_type": "markdown",
   "metadata": {},
   "source": [
    "### Read data in a DataFrame"
   ]
  },
  {
   "cell_type": "code",
   "execution_count": 3,
   "metadata": {},
   "outputs": [],
   "source": [
    "data = pd.read_csv('dataset/Cluj_1921_2025.csv')"
   ]
  },
  {
   "cell_type": "markdown",
   "metadata": {},
   "source": [
    "### Displaying raw data for analysis"
   ]
  },
  {
   "cell_type": "code",
   "execution_count": 4,
   "metadata": {},
   "outputs": [
    {
     "data": {
      "text/html": [
       "<div>\n",
       "<style scoped>\n",
       "    .dataframe tbody tr th:only-of-type {\n",
       "        vertical-align: middle;\n",
       "    }\n",
       "\n",
       "    .dataframe tbody tr th {\n",
       "        vertical-align: top;\n",
       "    }\n",
       "\n",
       "    .dataframe thead th {\n",
       "        text-align: right;\n",
       "    }\n",
       "</style>\n",
       "<table border=\"1\" class=\"dataframe\">\n",
       "  <thead>\n",
       "    <tr style=\"text-align: right;\">\n",
       "      <th></th>\n",
       "      <th>Date</th>\n",
       "      <th>TAVG (Degrees Fahrenheit)</th>\n",
       "      <th>TMAX (Degrees Fahrenheit)</th>\n",
       "      <th>TMIN (Degrees Fahrenheit)</th>\n",
       "      <th>PRCP (Inches)</th>\n",
       "      <th>SNOW (Inches)</th>\n",
       "      <th>SNWD (Inches)</th>\n",
       "    </tr>\n",
       "  </thead>\n",
       "  <tbody>\n",
       "    <tr>\n",
       "      <th>0</th>\n",
       "      <td>1921-03-01</td>\n",
       "      <td>NaN</td>\n",
       "      <td>36.0</td>\n",
       "      <td>30.0</td>\n",
       "      <td>NaN</td>\n",
       "      <td>NaN</td>\n",
       "      <td>NaN</td>\n",
       "    </tr>\n",
       "    <tr>\n",
       "      <th>1</th>\n",
       "      <td>1921-03-02</td>\n",
       "      <td>NaN</td>\n",
       "      <td>39.0</td>\n",
       "      <td>34.0</td>\n",
       "      <td>NaN</td>\n",
       "      <td>NaN</td>\n",
       "      <td>NaN</td>\n",
       "    </tr>\n",
       "    <tr>\n",
       "      <th>2</th>\n",
       "      <td>1921-03-03</td>\n",
       "      <td>NaN</td>\n",
       "      <td>40.0</td>\n",
       "      <td>32.0</td>\n",
       "      <td>NaN</td>\n",
       "      <td>NaN</td>\n",
       "      <td>NaN</td>\n",
       "    </tr>\n",
       "    <tr>\n",
       "      <th>3</th>\n",
       "      <td>1921-03-04</td>\n",
       "      <td>NaN</td>\n",
       "      <td>43.0</td>\n",
       "      <td>32.0</td>\n",
       "      <td>NaN</td>\n",
       "      <td>NaN</td>\n",
       "      <td>NaN</td>\n",
       "    </tr>\n",
       "    <tr>\n",
       "      <th>4</th>\n",
       "      <td>1921-03-05</td>\n",
       "      <td>NaN</td>\n",
       "      <td>45.0</td>\n",
       "      <td>28.0</td>\n",
       "      <td>NaN</td>\n",
       "      <td>NaN</td>\n",
       "      <td>NaN</td>\n",
       "    </tr>\n",
       "    <tr>\n",
       "      <th>...</th>\n",
       "      <td>...</td>\n",
       "      <td>...</td>\n",
       "      <td>...</td>\n",
       "      <td>...</td>\n",
       "      <td>...</td>\n",
       "      <td>...</td>\n",
       "      <td>...</td>\n",
       "    </tr>\n",
       "    <tr>\n",
       "      <th>37996</th>\n",
       "      <td>2025-03-11</td>\n",
       "      <td>52.0</td>\n",
       "      <td>NaN</td>\n",
       "      <td>NaN</td>\n",
       "      <td>0.00</td>\n",
       "      <td>NaN</td>\n",
       "      <td>NaN</td>\n",
       "    </tr>\n",
       "    <tr>\n",
       "      <th>37997</th>\n",
       "      <td>2025-03-12</td>\n",
       "      <td>54.0</td>\n",
       "      <td>NaN</td>\n",
       "      <td>NaN</td>\n",
       "      <td>0.00</td>\n",
       "      <td>NaN</td>\n",
       "      <td>NaN</td>\n",
       "    </tr>\n",
       "    <tr>\n",
       "      <th>37998</th>\n",
       "      <td>2025-03-13</td>\n",
       "      <td>57.0</td>\n",
       "      <td>NaN</td>\n",
       "      <td>NaN</td>\n",
       "      <td>0.00</td>\n",
       "      <td>NaN</td>\n",
       "      <td>NaN</td>\n",
       "    </tr>\n",
       "    <tr>\n",
       "      <th>37999</th>\n",
       "      <td>2025-03-14</td>\n",
       "      <td>54.0</td>\n",
       "      <td>NaN</td>\n",
       "      <td>NaN</td>\n",
       "      <td>0.07</td>\n",
       "      <td>NaN</td>\n",
       "      <td>NaN</td>\n",
       "    </tr>\n",
       "    <tr>\n",
       "      <th>38000</th>\n",
       "      <td>2025-03-15</td>\n",
       "      <td>58.0</td>\n",
       "      <td>NaN</td>\n",
       "      <td>46.0</td>\n",
       "      <td>0.02</td>\n",
       "      <td>NaN</td>\n",
       "      <td>NaN</td>\n",
       "    </tr>\n",
       "  </tbody>\n",
       "</table>\n",
       "<p>38001 rows × 7 columns</p>\n",
       "</div>"
      ],
      "text/plain": [
       "             Date  TAVG (Degrees Fahrenheit)  TMAX (Degrees Fahrenheit)  \\\n",
       "0      1921-03-01                        NaN                       36.0   \n",
       "1      1921-03-02                        NaN                       39.0   \n",
       "2      1921-03-03                        NaN                       40.0   \n",
       "3      1921-03-04                        NaN                       43.0   \n",
       "4      1921-03-05                        NaN                       45.0   \n",
       "...           ...                        ...                        ...   \n",
       "37996  2025-03-11                       52.0                        NaN   \n",
       "37997  2025-03-12                       54.0                        NaN   \n",
       "37998  2025-03-13                       57.0                        NaN   \n",
       "37999  2025-03-14                       54.0                        NaN   \n",
       "38000  2025-03-15                       58.0                        NaN   \n",
       "\n",
       "       TMIN (Degrees Fahrenheit)  PRCP (Inches)  SNOW (Inches)  SNWD (Inches)  \n",
       "0                           30.0            NaN            NaN            NaN  \n",
       "1                           34.0            NaN            NaN            NaN  \n",
       "2                           32.0            NaN            NaN            NaN  \n",
       "3                           32.0            NaN            NaN            NaN  \n",
       "4                           28.0            NaN            NaN            NaN  \n",
       "...                          ...            ...            ...            ...  \n",
       "37996                        NaN           0.00            NaN            NaN  \n",
       "37997                        NaN           0.00            NaN            NaN  \n",
       "37998                        NaN           0.00            NaN            NaN  \n",
       "37999                        NaN           0.07            NaN            NaN  \n",
       "38000                       46.0           0.02            NaN            NaN  \n",
       "\n",
       "[38001 rows x 7 columns]"
      ]
     },
     "execution_count": 4,
     "metadata": {},
     "output_type": "execute_result"
    }
   ],
   "source": [
    "data"
   ]
  },
  {
   "cell_type": "markdown",
   "metadata": {},
   "source": [
    "### Convert 'Date' row to 'datetime'"
   ]
  },
  {
   "cell_type": "code",
   "execution_count": 5,
   "metadata": {},
   "outputs": [],
   "source": [
    "data['Date'] = pd.to_datetime(data['Date'])"
   ]
  },
  {
   "cell_type": "markdown",
   "metadata": {},
   "source": [
    "### Extracting all data between 2022-2024"
   ]
  },
  {
   "cell_type": "code",
   "execution_count": 6,
   "metadata": {},
   "outputs": [],
   "source": [
    "# Specifing the desired years to extract\n",
    "desired_years = [2022, 2023, 2024]\n",
    "\n",
    "# Extract weather data from 2022 to 2024 using a query\n",
    "years_2022_to_2024 = data.query(f'(Date.dt.year >= {desired_years[0]}) & (Date.dt.year <= {desired_years[2]})')"
   ]
  },
  {
   "cell_type": "markdown",
   "metadata": {},
   "source": [
    "### Display the extracted data"
   ]
  },
  {
   "cell_type": "code",
   "execution_count": 7,
   "metadata": {},
   "outputs": [
    {
     "data": {
      "text/html": [
       "<div>\n",
       "<style scoped>\n",
       "    .dataframe tbody tr th:only-of-type {\n",
       "        vertical-align: middle;\n",
       "    }\n",
       "\n",
       "    .dataframe tbody tr th {\n",
       "        vertical-align: top;\n",
       "    }\n",
       "\n",
       "    .dataframe thead th {\n",
       "        text-align: right;\n",
       "    }\n",
       "</style>\n",
       "<table border=\"1\" class=\"dataframe\">\n",
       "  <thead>\n",
       "    <tr style=\"text-align: right;\">\n",
       "      <th></th>\n",
       "      <th>Date</th>\n",
       "      <th>TAVG (Degrees Fahrenheit)</th>\n",
       "      <th>TMAX (Degrees Fahrenheit)</th>\n",
       "      <th>TMIN (Degrees Fahrenheit)</th>\n",
       "      <th>PRCP (Inches)</th>\n",
       "      <th>SNOW (Inches)</th>\n",
       "      <th>SNWD (Inches)</th>\n",
       "    </tr>\n",
       "  </thead>\n",
       "  <tbody>\n",
       "    <tr>\n",
       "      <th>36831</th>\n",
       "      <td>2022-01-01</td>\n",
       "      <td>46.0</td>\n",
       "      <td>53.0</td>\n",
       "      <td>39.0</td>\n",
       "      <td>0.03</td>\n",
       "      <td>NaN</td>\n",
       "      <td>NaN</td>\n",
       "    </tr>\n",
       "    <tr>\n",
       "      <th>36832</th>\n",
       "      <td>2022-01-02</td>\n",
       "      <td>45.0</td>\n",
       "      <td>50.0</td>\n",
       "      <td>41.0</td>\n",
       "      <td>0.00</td>\n",
       "      <td>NaN</td>\n",
       "      <td>NaN</td>\n",
       "    </tr>\n",
       "    <tr>\n",
       "      <th>36833</th>\n",
       "      <td>2022-01-03</td>\n",
       "      <td>42.0</td>\n",
       "      <td>53.0</td>\n",
       "      <td>36.0</td>\n",
       "      <td>0.00</td>\n",
       "      <td>NaN</td>\n",
       "      <td>NaN</td>\n",
       "    </tr>\n",
       "    <tr>\n",
       "      <th>36834</th>\n",
       "      <td>2022-01-04</td>\n",
       "      <td>44.0</td>\n",
       "      <td>52.0</td>\n",
       "      <td>38.0</td>\n",
       "      <td>0.07</td>\n",
       "      <td>NaN</td>\n",
       "      <td>NaN</td>\n",
       "    </tr>\n",
       "    <tr>\n",
       "      <th>36835</th>\n",
       "      <td>2022-01-05</td>\n",
       "      <td>48.0</td>\n",
       "      <td>56.0</td>\n",
       "      <td>43.0</td>\n",
       "      <td>0.00</td>\n",
       "      <td>NaN</td>\n",
       "      <td>NaN</td>\n",
       "    </tr>\n",
       "    <tr>\n",
       "      <th>...</th>\n",
       "      <td>...</td>\n",
       "      <td>...</td>\n",
       "      <td>...</td>\n",
       "      <td>...</td>\n",
       "      <td>...</td>\n",
       "      <td>...</td>\n",
       "      <td>...</td>\n",
       "    </tr>\n",
       "    <tr>\n",
       "      <th>37922</th>\n",
       "      <td>2024-12-27</td>\n",
       "      <td>34.0</td>\n",
       "      <td>43.0</td>\n",
       "      <td>NaN</td>\n",
       "      <td>0.01</td>\n",
       "      <td>NaN</td>\n",
       "      <td>NaN</td>\n",
       "    </tr>\n",
       "    <tr>\n",
       "      <th>37923</th>\n",
       "      <td>2024-12-28</td>\n",
       "      <td>30.0</td>\n",
       "      <td>41.0</td>\n",
       "      <td>NaN</td>\n",
       "      <td>0.00</td>\n",
       "      <td>NaN</td>\n",
       "      <td>NaN</td>\n",
       "    </tr>\n",
       "    <tr>\n",
       "      <th>37924</th>\n",
       "      <td>2024-12-29</td>\n",
       "      <td>28.0</td>\n",
       "      <td>NaN</td>\n",
       "      <td>NaN</td>\n",
       "      <td>0.00</td>\n",
       "      <td>NaN</td>\n",
       "      <td>NaN</td>\n",
       "    </tr>\n",
       "    <tr>\n",
       "      <th>37925</th>\n",
       "      <td>2024-12-30</td>\n",
       "      <td>28.0</td>\n",
       "      <td>30.0</td>\n",
       "      <td>26.0</td>\n",
       "      <td>0.00</td>\n",
       "      <td>NaN</td>\n",
       "      <td>NaN</td>\n",
       "    </tr>\n",
       "    <tr>\n",
       "      <th>37926</th>\n",
       "      <td>2024-12-31</td>\n",
       "      <td>28.0</td>\n",
       "      <td>NaN</td>\n",
       "      <td>25.0</td>\n",
       "      <td>0.00</td>\n",
       "      <td>NaN</td>\n",
       "      <td>NaN</td>\n",
       "    </tr>\n",
       "  </tbody>\n",
       "</table>\n",
       "<p>1096 rows × 7 columns</p>\n",
       "</div>"
      ],
      "text/plain": [
       "            Date  TAVG (Degrees Fahrenheit)  TMAX (Degrees Fahrenheit)  \\\n",
       "36831 2022-01-01                       46.0                       53.0   \n",
       "36832 2022-01-02                       45.0                       50.0   \n",
       "36833 2022-01-03                       42.0                       53.0   \n",
       "36834 2022-01-04                       44.0                       52.0   \n",
       "36835 2022-01-05                       48.0                       56.0   \n",
       "...          ...                        ...                        ...   \n",
       "37922 2024-12-27                       34.0                       43.0   \n",
       "37923 2024-12-28                       30.0                       41.0   \n",
       "37924 2024-12-29                       28.0                        NaN   \n",
       "37925 2024-12-30                       28.0                       30.0   \n",
       "37926 2024-12-31                       28.0                        NaN   \n",
       "\n",
       "       TMIN (Degrees Fahrenheit)  PRCP (Inches)  SNOW (Inches)  SNWD (Inches)  \n",
       "36831                       39.0           0.03            NaN            NaN  \n",
       "36832                       41.0           0.00            NaN            NaN  \n",
       "36833                       36.0           0.00            NaN            NaN  \n",
       "36834                       38.0           0.07            NaN            NaN  \n",
       "36835                       43.0           0.00            NaN            NaN  \n",
       "...                          ...            ...            ...            ...  \n",
       "37922                        NaN           0.01            NaN            NaN  \n",
       "37923                        NaN           0.00            NaN            NaN  \n",
       "37924                        NaN           0.00            NaN            NaN  \n",
       "37925                       26.0           0.00            NaN            NaN  \n",
       "37926                       25.0           0.00            NaN            NaN  \n",
       "\n",
       "[1096 rows x 7 columns]"
      ]
     },
     "execution_count": 7,
     "metadata": {},
     "output_type": "execute_result"
    }
   ],
   "source": [
    "years_2022_to_2024"
   ]
  },
  {
   "cell_type": "markdown",
   "metadata": {},
   "source": [
    "### Separate data by month\n",
    "\n",
    "##### Each month will be stored in a separate DataFrame"
   ]
  },
  {
   "cell_type": "code",
   "execution_count": 8,
   "metadata": {},
   "outputs": [],
   "source": [
    "# Creating a empty list that will contain a DataFrame for each month\n",
    "years_2022_2024_months_list = []\n",
    "\n",
    "for i in range(3):\n",
    "\n",
    "    for j in range (12):\n",
    "\n",
    "        # Extract a specific month of the year\n",
    "        specific_month = years_2022_to_2024.query(f'(Date.dt.year == {desired_years[i]}) & (Date.dt.month == {j + 1})')\n",
    "\n",
    "        # Add the extracted month in the list\n",
    "        years_2022_2024_months_list.append(specific_month)"
   ]
  },
  {
   "cell_type": "markdown",
   "metadata": {},
   "source": [
    "##### Printing the month \"July\" that is represented by the index 6 (the list starts with index 0)"
   ]
  },
  {
   "cell_type": "code",
   "execution_count": 9,
   "metadata": {},
   "outputs": [
    {
     "data": {
      "text/html": [
       "<div>\n",
       "<style scoped>\n",
       "    .dataframe tbody tr th:only-of-type {\n",
       "        vertical-align: middle;\n",
       "    }\n",
       "\n",
       "    .dataframe tbody tr th {\n",
       "        vertical-align: top;\n",
       "    }\n",
       "\n",
       "    .dataframe thead th {\n",
       "        text-align: right;\n",
       "    }\n",
       "</style>\n",
       "<table border=\"1\" class=\"dataframe\">\n",
       "  <thead>\n",
       "    <tr style=\"text-align: right;\">\n",
       "      <th></th>\n",
       "      <th>Date</th>\n",
       "      <th>TAVG (Degrees Fahrenheit)</th>\n",
       "      <th>TMAX (Degrees Fahrenheit)</th>\n",
       "      <th>TMIN (Degrees Fahrenheit)</th>\n",
       "      <th>PRCP (Inches)</th>\n",
       "      <th>SNOW (Inches)</th>\n",
       "      <th>SNWD (Inches)</th>\n",
       "    </tr>\n",
       "  </thead>\n",
       "  <tbody>\n",
       "    <tr>\n",
       "      <th>37012</th>\n",
       "      <td>2022-07-01</td>\n",
       "      <td>80.0</td>\n",
       "      <td>96.0</td>\n",
       "      <td>64.0</td>\n",
       "      <td>0.00</td>\n",
       "      <td>NaN</td>\n",
       "      <td>NaN</td>\n",
       "    </tr>\n",
       "    <tr>\n",
       "      <th>37013</th>\n",
       "      <td>2022-07-02</td>\n",
       "      <td>77.0</td>\n",
       "      <td>92.0</td>\n",
       "      <td>65.0</td>\n",
       "      <td>0.02</td>\n",
       "      <td>NaN</td>\n",
       "      <td>NaN</td>\n",
       "    </tr>\n",
       "    <tr>\n",
       "      <th>37014</th>\n",
       "      <td>2022-07-03</td>\n",
       "      <td>76.0</td>\n",
       "      <td>89.0</td>\n",
       "      <td>63.0</td>\n",
       "      <td>0.00</td>\n",
       "      <td>NaN</td>\n",
       "      <td>NaN</td>\n",
       "    </tr>\n",
       "    <tr>\n",
       "      <th>37015</th>\n",
       "      <td>2022-07-04</td>\n",
       "      <td>78.0</td>\n",
       "      <td>92.0</td>\n",
       "      <td>64.0</td>\n",
       "      <td>0.02</td>\n",
       "      <td>NaN</td>\n",
       "      <td>NaN</td>\n",
       "    </tr>\n",
       "    <tr>\n",
       "      <th>37016</th>\n",
       "      <td>2022-07-05</td>\n",
       "      <td>81.0</td>\n",
       "      <td>95.0</td>\n",
       "      <td>64.0</td>\n",
       "      <td>0.00</td>\n",
       "      <td>NaN</td>\n",
       "      <td>NaN</td>\n",
       "    </tr>\n",
       "    <tr>\n",
       "      <th>37017</th>\n",
       "      <td>2022-07-06</td>\n",
       "      <td>65.0</td>\n",
       "      <td>85.0</td>\n",
       "      <td>63.0</td>\n",
       "      <td>0.15</td>\n",
       "      <td>NaN</td>\n",
       "      <td>0.8</td>\n",
       "    </tr>\n",
       "    <tr>\n",
       "      <th>37018</th>\n",
       "      <td>2022-07-07</td>\n",
       "      <td>67.0</td>\n",
       "      <td>78.0</td>\n",
       "      <td>53.0</td>\n",
       "      <td>0.67</td>\n",
       "      <td>NaN</td>\n",
       "      <td>NaN</td>\n",
       "    </tr>\n",
       "    <tr>\n",
       "      <th>37019</th>\n",
       "      <td>2022-07-08</td>\n",
       "      <td>69.0</td>\n",
       "      <td>81.0</td>\n",
       "      <td>54.0</td>\n",
       "      <td>0.00</td>\n",
       "      <td>NaN</td>\n",
       "      <td>NaN</td>\n",
       "    </tr>\n",
       "    <tr>\n",
       "      <th>37020</th>\n",
       "      <td>2022-07-09</td>\n",
       "      <td>69.0</td>\n",
       "      <td>77.0</td>\n",
       "      <td>59.0</td>\n",
       "      <td>0.00</td>\n",
       "      <td>NaN</td>\n",
       "      <td>NaN</td>\n",
       "    </tr>\n",
       "    <tr>\n",
       "      <th>37021</th>\n",
       "      <td>2022-07-10</td>\n",
       "      <td>63.0</td>\n",
       "      <td>75.0</td>\n",
       "      <td>55.0</td>\n",
       "      <td>0.00</td>\n",
       "      <td>NaN</td>\n",
       "      <td>NaN</td>\n",
       "    </tr>\n",
       "    <tr>\n",
       "      <th>37022</th>\n",
       "      <td>2022-07-11</td>\n",
       "      <td>62.0</td>\n",
       "      <td>70.0</td>\n",
       "      <td>52.0</td>\n",
       "      <td>0.00</td>\n",
       "      <td>NaN</td>\n",
       "      <td>NaN</td>\n",
       "    </tr>\n",
       "    <tr>\n",
       "      <th>37023</th>\n",
       "      <td>2022-07-12</td>\n",
       "      <td>60.0</td>\n",
       "      <td>70.0</td>\n",
       "      <td>46.0</td>\n",
       "      <td>0.00</td>\n",
       "      <td>NaN</td>\n",
       "      <td>NaN</td>\n",
       "    </tr>\n",
       "    <tr>\n",
       "      <th>37024</th>\n",
       "      <td>2022-07-13</td>\n",
       "      <td>66.0</td>\n",
       "      <td>80.0</td>\n",
       "      <td>51.0</td>\n",
       "      <td>0.00</td>\n",
       "      <td>NaN</td>\n",
       "      <td>NaN</td>\n",
       "    </tr>\n",
       "    <tr>\n",
       "      <th>37025</th>\n",
       "      <td>2022-07-14</td>\n",
       "      <td>73.0</td>\n",
       "      <td>88.0</td>\n",
       "      <td>55.0</td>\n",
       "      <td>0.00</td>\n",
       "      <td>NaN</td>\n",
       "      <td>NaN</td>\n",
       "    </tr>\n",
       "    <tr>\n",
       "      <th>37026</th>\n",
       "      <td>2022-07-15</td>\n",
       "      <td>71.0</td>\n",
       "      <td>84.0</td>\n",
       "      <td>61.0</td>\n",
       "      <td>0.00</td>\n",
       "      <td>NaN</td>\n",
       "      <td>NaN</td>\n",
       "    </tr>\n",
       "    <tr>\n",
       "      <th>37027</th>\n",
       "      <td>2022-07-16</td>\n",
       "      <td>70.0</td>\n",
       "      <td>81.0</td>\n",
       "      <td>56.0</td>\n",
       "      <td>0.00</td>\n",
       "      <td>NaN</td>\n",
       "      <td>NaN</td>\n",
       "    </tr>\n",
       "    <tr>\n",
       "      <th>37028</th>\n",
       "      <td>2022-07-17</td>\n",
       "      <td>66.0</td>\n",
       "      <td>74.0</td>\n",
       "      <td>56.0</td>\n",
       "      <td>0.00</td>\n",
       "      <td>NaN</td>\n",
       "      <td>NaN</td>\n",
       "    </tr>\n",
       "    <tr>\n",
       "      <th>37029</th>\n",
       "      <td>2022-07-18</td>\n",
       "      <td>66.0</td>\n",
       "      <td>79.0</td>\n",
       "      <td>49.0</td>\n",
       "      <td>0.00</td>\n",
       "      <td>NaN</td>\n",
       "      <td>NaN</td>\n",
       "    </tr>\n",
       "    <tr>\n",
       "      <th>37030</th>\n",
       "      <td>2022-07-19</td>\n",
       "      <td>70.0</td>\n",
       "      <td>84.0</td>\n",
       "      <td>52.0</td>\n",
       "      <td>0.00</td>\n",
       "      <td>NaN</td>\n",
       "      <td>NaN</td>\n",
       "    </tr>\n",
       "    <tr>\n",
       "      <th>37031</th>\n",
       "      <td>2022-07-20</td>\n",
       "      <td>75.0</td>\n",
       "      <td>88.0</td>\n",
       "      <td>56.0</td>\n",
       "      <td>0.00</td>\n",
       "      <td>NaN</td>\n",
       "      <td>NaN</td>\n",
       "    </tr>\n",
       "    <tr>\n",
       "      <th>37032</th>\n",
       "      <td>2022-07-21</td>\n",
       "      <td>77.0</td>\n",
       "      <td>89.0</td>\n",
       "      <td>61.0</td>\n",
       "      <td>0.00</td>\n",
       "      <td>NaN</td>\n",
       "      <td>NaN</td>\n",
       "    </tr>\n",
       "    <tr>\n",
       "      <th>37033</th>\n",
       "      <td>2022-07-22</td>\n",
       "      <td>77.0</td>\n",
       "      <td>94.0</td>\n",
       "      <td>57.0</td>\n",
       "      <td>0.00</td>\n",
       "      <td>NaN</td>\n",
       "      <td>NaN</td>\n",
       "    </tr>\n",
       "    <tr>\n",
       "      <th>37034</th>\n",
       "      <td>2022-07-23</td>\n",
       "      <td>80.0</td>\n",
       "      <td>98.0</td>\n",
       "      <td>63.0</td>\n",
       "      <td>0.00</td>\n",
       "      <td>NaN</td>\n",
       "      <td>NaN</td>\n",
       "    </tr>\n",
       "    <tr>\n",
       "      <th>37035</th>\n",
       "      <td>2022-07-24</td>\n",
       "      <td>78.0</td>\n",
       "      <td>88.0</td>\n",
       "      <td>69.0</td>\n",
       "      <td>0.00</td>\n",
       "      <td>NaN</td>\n",
       "      <td>NaN</td>\n",
       "    </tr>\n",
       "    <tr>\n",
       "      <th>37036</th>\n",
       "      <td>2022-07-25</td>\n",
       "      <td>76.0</td>\n",
       "      <td>89.0</td>\n",
       "      <td>59.0</td>\n",
       "      <td>0.00</td>\n",
       "      <td>NaN</td>\n",
       "      <td>NaN</td>\n",
       "    </tr>\n",
       "    <tr>\n",
       "      <th>37037</th>\n",
       "      <td>2022-07-26</td>\n",
       "      <td>76.0</td>\n",
       "      <td>92.0</td>\n",
       "      <td>57.0</td>\n",
       "      <td>0.00</td>\n",
       "      <td>NaN</td>\n",
       "      <td>NaN</td>\n",
       "    </tr>\n",
       "    <tr>\n",
       "      <th>37038</th>\n",
       "      <td>2022-07-27</td>\n",
       "      <td>74.0</td>\n",
       "      <td>85.0</td>\n",
       "      <td>66.0</td>\n",
       "      <td>0.01</td>\n",
       "      <td>NaN</td>\n",
       "      <td>NaN</td>\n",
       "    </tr>\n",
       "    <tr>\n",
       "      <th>37039</th>\n",
       "      <td>2022-07-28</td>\n",
       "      <td>72.0</td>\n",
       "      <td>87.0</td>\n",
       "      <td>57.0</td>\n",
       "      <td>0.00</td>\n",
       "      <td>NaN</td>\n",
       "      <td>NaN</td>\n",
       "    </tr>\n",
       "    <tr>\n",
       "      <th>37040</th>\n",
       "      <td>2022-07-29</td>\n",
       "      <td>72.0</td>\n",
       "      <td>83.0</td>\n",
       "      <td>63.0</td>\n",
       "      <td>0.01</td>\n",
       "      <td>NaN</td>\n",
       "      <td>NaN</td>\n",
       "    </tr>\n",
       "    <tr>\n",
       "      <th>37041</th>\n",
       "      <td>2022-07-30</td>\n",
       "      <td>73.0</td>\n",
       "      <td>86.0</td>\n",
       "      <td>66.0</td>\n",
       "      <td>0.02</td>\n",
       "      <td>NaN</td>\n",
       "      <td>NaN</td>\n",
       "    </tr>\n",
       "    <tr>\n",
       "      <th>37042</th>\n",
       "      <td>2022-07-31</td>\n",
       "      <td>70.0</td>\n",
       "      <td>83.0</td>\n",
       "      <td>63.0</td>\n",
       "      <td>0.10</td>\n",
       "      <td>NaN</td>\n",
       "      <td>NaN</td>\n",
       "    </tr>\n",
       "  </tbody>\n",
       "</table>\n",
       "</div>"
      ],
      "text/plain": [
       "            Date  TAVG (Degrees Fahrenheit)  TMAX (Degrees Fahrenheit)  \\\n",
       "37012 2022-07-01                       80.0                       96.0   \n",
       "37013 2022-07-02                       77.0                       92.0   \n",
       "37014 2022-07-03                       76.0                       89.0   \n",
       "37015 2022-07-04                       78.0                       92.0   \n",
       "37016 2022-07-05                       81.0                       95.0   \n",
       "37017 2022-07-06                       65.0                       85.0   \n",
       "37018 2022-07-07                       67.0                       78.0   \n",
       "37019 2022-07-08                       69.0                       81.0   \n",
       "37020 2022-07-09                       69.0                       77.0   \n",
       "37021 2022-07-10                       63.0                       75.0   \n",
       "37022 2022-07-11                       62.0                       70.0   \n",
       "37023 2022-07-12                       60.0                       70.0   \n",
       "37024 2022-07-13                       66.0                       80.0   \n",
       "37025 2022-07-14                       73.0                       88.0   \n",
       "37026 2022-07-15                       71.0                       84.0   \n",
       "37027 2022-07-16                       70.0                       81.0   \n",
       "37028 2022-07-17                       66.0                       74.0   \n",
       "37029 2022-07-18                       66.0                       79.0   \n",
       "37030 2022-07-19                       70.0                       84.0   \n",
       "37031 2022-07-20                       75.0                       88.0   \n",
       "37032 2022-07-21                       77.0                       89.0   \n",
       "37033 2022-07-22                       77.0                       94.0   \n",
       "37034 2022-07-23                       80.0                       98.0   \n",
       "37035 2022-07-24                       78.0                       88.0   \n",
       "37036 2022-07-25                       76.0                       89.0   \n",
       "37037 2022-07-26                       76.0                       92.0   \n",
       "37038 2022-07-27                       74.0                       85.0   \n",
       "37039 2022-07-28                       72.0                       87.0   \n",
       "37040 2022-07-29                       72.0                       83.0   \n",
       "37041 2022-07-30                       73.0                       86.0   \n",
       "37042 2022-07-31                       70.0                       83.0   \n",
       "\n",
       "       TMIN (Degrees Fahrenheit)  PRCP (Inches)  SNOW (Inches)  SNWD (Inches)  \n",
       "37012                       64.0           0.00            NaN            NaN  \n",
       "37013                       65.0           0.02            NaN            NaN  \n",
       "37014                       63.0           0.00            NaN            NaN  \n",
       "37015                       64.0           0.02            NaN            NaN  \n",
       "37016                       64.0           0.00            NaN            NaN  \n",
       "37017                       63.0           0.15            NaN            0.8  \n",
       "37018                       53.0           0.67            NaN            NaN  \n",
       "37019                       54.0           0.00            NaN            NaN  \n",
       "37020                       59.0           0.00            NaN            NaN  \n",
       "37021                       55.0           0.00            NaN            NaN  \n",
       "37022                       52.0           0.00            NaN            NaN  \n",
       "37023                       46.0           0.00            NaN            NaN  \n",
       "37024                       51.0           0.00            NaN            NaN  \n",
       "37025                       55.0           0.00            NaN            NaN  \n",
       "37026                       61.0           0.00            NaN            NaN  \n",
       "37027                       56.0           0.00            NaN            NaN  \n",
       "37028                       56.0           0.00            NaN            NaN  \n",
       "37029                       49.0           0.00            NaN            NaN  \n",
       "37030                       52.0           0.00            NaN            NaN  \n",
       "37031                       56.0           0.00            NaN            NaN  \n",
       "37032                       61.0           0.00            NaN            NaN  \n",
       "37033                       57.0           0.00            NaN            NaN  \n",
       "37034                       63.0           0.00            NaN            NaN  \n",
       "37035                       69.0           0.00            NaN            NaN  \n",
       "37036                       59.0           0.00            NaN            NaN  \n",
       "37037                       57.0           0.00            NaN            NaN  \n",
       "37038                       66.0           0.01            NaN            NaN  \n",
       "37039                       57.0           0.00            NaN            NaN  \n",
       "37040                       63.0           0.01            NaN            NaN  \n",
       "37041                       66.0           0.02            NaN            NaN  \n",
       "37042                       63.0           0.10            NaN            NaN  "
      ]
     },
     "execution_count": 9,
     "metadata": {},
     "output_type": "execute_result"
    }
   ],
   "source": [
    "years_2022_2024_months_list[6]"
   ]
  },
  {
   "cell_type": "markdown",
   "metadata": {},
   "source": [
    "### Get the average from each month"
   ]
  },
  {
   "cell_type": "code",
   "execution_count": 10,
   "metadata": {},
   "outputs": [],
   "source": [
    "# A special list to store each month average temperature\n",
    "mean_avg_temn_months_list = []\n",
    "# A special list to store each month average precipitations in inches\n",
    "mean_prcp_inches_list = []\n",
    "\n",
    "for i in range(len(years_2022_2024_months_list)):\n",
    "\n",
    "    mean_month_avg_temp = np.mean(years_2022_2024_months_list[i]['TAVG (Degrees Fahrenheit)'])\n",
    "    mean_month_prcp = np.mean(years_2022_2024_months_list[i]['PRCP (Inches)'])\n",
    "\n",
    "    mean_avg_temn_months_list.append(mean_month_avg_temp)\n",
    "    mean_prcp_inches_list.append(mean_month_prcp)\n"
   ]
  },
  {
   "cell_type": "markdown",
   "metadata": {},
   "source": [
    "#### The average temperature from the first month (index 0)"
   ]
  },
  {
   "cell_type": "code",
   "execution_count": 11,
   "metadata": {},
   "outputs": [
    {
     "data": {
      "text/plain": [
       "30.225806451612904"
      ]
     },
     "execution_count": 11,
     "metadata": {},
     "output_type": "execute_result"
    }
   ],
   "source": [
    "mean_avg_temn_months_list[0]"
   ]
  },
  {
   "cell_type": "markdown",
   "metadata": {},
   "source": [
    "#### Print maximum precipitation in inches"
   ]
  },
  {
   "cell_type": "code",
   "execution_count": 12,
   "metadata": {},
   "outputs": [
    {
     "data": {
      "text/plain": [
       "0.19133333333333333"
      ]
     },
     "execution_count": 12,
     "metadata": {},
     "output_type": "execute_result"
    }
   ],
   "source": [
    "max(mean_prcp_inches_list)"
   ]
  },
  {
   "cell_type": "markdown",
   "metadata": {},
   "source": [
    "#### Converting average temperature list in a numpy array"
   ]
  },
  {
   "cell_type": "code",
   "execution_count": 13,
   "metadata": {},
   "outputs": [
    {
     "data": {
      "text/plain": [
       "array([30.22580645, 35.07142857, 38.22580645, 47.73333333, 60.19354839,\n",
       "       68.86666667, 71.90322581, 71.48387097, 57.73333333, 50.70967742,\n",
       "       42.16666667, 35.61290323, 38.12903226, 33.28571429, 43.09677419,\n",
       "       48.13333333, 59.41935484, 66.46666667, 71.38709677, 71.87096774,\n",
       "       65.5       , 54.03225806, 41.76666667, 34.87096774, 32.25806452,\n",
       "       43.37931034, 45.81481481, 54.93333333, 60.76666667, 71.36666667,\n",
       "       74.67741935, 73.9       , 63.33333333, 49.41935484, 36.65384615,\n",
       "       34.1       ])"
      ]
     },
     "execution_count": 13,
     "metadata": {},
     "output_type": "execute_result"
    }
   ],
   "source": [
    "mean_avg_temn_months_list_np = np.ravel(mean_avg_temn_months_list)\n",
    "\n",
    "mean_avg_temn_months_list_np"
   ]
  },
  {
   "cell_type": "markdown",
   "metadata": {},
   "source": [
    "#### Converting average precipitation list in a numpy array"
   ]
  },
  {
   "cell_type": "code",
   "execution_count": 14,
   "metadata": {},
   "outputs": [
    {
     "data": {
      "text/plain": [
       "array([0.02129032, 0.01607143, 0.01258065, 0.06433333, 0.11677419,\n",
       "       0.033     , 0.03225806, 0.11129032, 0.117     , 0.04032258,\n",
       "       0.06533333, 0.03032258, 0.06      , 0.07928571, 0.02516129,\n",
       "       0.07866667, 0.09258065, 0.086     , 0.10225806, 0.07258065,\n",
       "       0.19133333, 0.01      , 0.09766667, 0.03129032, 0.01387097,\n",
       "       0.03965517, 0.03483871, 0.062     , 0.04193548, 0.11666667,\n",
       "       0.09870968, 0.07      , 0.071     , 0.03387097, 0.02733333,\n",
       "       0.024     ])"
      ]
     },
     "execution_count": 14,
     "metadata": {},
     "output_type": "execute_result"
    }
   ],
   "source": [
    "mean_prcp_inches_list_np = np.ravel(mean_prcp_inches_list)\n",
    "\n",
    "mean_prcp_inches_list_np"
   ]
  },
  {
   "cell_type": "markdown",
   "metadata": {},
   "source": [
    "### Convert the temperature data from Farenheights to Celsius\n",
    "\n",
    "The general formula for the conversion:\n",
    "(F - 32) / 1.8"
   ]
  },
  {
   "cell_type": "code",
   "execution_count": 15,
   "metadata": {},
   "outputs": [
    {
     "data": {
      "text/plain": [
       "array([-0.98566308,  1.70634921,  3.45878136,  8.74074074, 15.66308244,\n",
       "       20.48148148, 22.16845878, 21.93548387, 14.2962963 , 10.39426523,\n",
       "        5.64814815,  2.00716846,  3.40501792,  0.71428571,  6.16487455,\n",
       "        8.96296296, 15.23297491, 19.14814815, 21.88172043, 22.15053763,\n",
       "       18.61111111, 12.24014337,  5.42592593,  1.59498208,  0.14336918,\n",
       "        6.32183908,  7.67489712, 12.74074074, 15.98148148, 21.87037037,\n",
       "       23.70967742, 23.27777778, 17.40740741,  9.67741935,  2.58547009,\n",
       "        1.16666667])"
      ]
     },
     "execution_count": 15,
     "metadata": {},
     "output_type": "execute_result"
    }
   ],
   "source": [
    "celsius_avg_temp_np = (mean_avg_temn_months_list_np - 32) / 1.8\n",
    "\n",
    "celsius_avg_temp_np"
   ]
  },
  {
   "cell_type": "markdown",
   "metadata": {},
   "source": [
    "#### Convert the precipitation data from inches to mm"
   ]
  },
  {
   "cell_type": "code",
   "execution_count": 16,
   "metadata": {},
   "outputs": [
    {
     "data": {
      "text/plain": [
       "array([0.54077419, 0.40821429, 0.31954839, 1.63406667, 2.96606452,\n",
       "       0.8382    , 0.81935484, 2.82677419, 2.9718    , 1.02419355,\n",
       "       1.65946667, 0.77019355, 1.524     , 2.01385714, 0.63909677,\n",
       "       1.99813333, 2.35154839, 2.1844    , 2.59735484, 1.84354839,\n",
       "       4.85986667, 0.254     , 2.48073333, 0.79477419, 0.35232258,\n",
       "       1.00724138, 0.88490323, 1.5748    , 1.06516129, 2.96333333,\n",
       "       2.50722581, 1.778     , 1.8034    , 0.86032258, 0.69426667,\n",
       "       0.6096    ])"
      ]
     },
     "execution_count": 16,
     "metadata": {},
     "output_type": "execute_result"
    }
   ],
   "source": [
    "mm_avg_prcp_np = mean_prcp_inches_list_np * 25.4\n",
    "\n",
    "mm_avg_prcp_np"
   ]
  },
  {
   "cell_type": "markdown",
   "metadata": {},
   "source": [
    "#### Print the maximum avearage precipition value"
   ]
  },
  {
   "cell_type": "code",
   "execution_count": 17,
   "metadata": {},
   "outputs": [
    {
     "data": {
      "text/plain": [
       "4.859866666666666"
      ]
     },
     "execution_count": 17,
     "metadata": {},
     "output_type": "execute_result"
    }
   ],
   "source": [
    "mm_avg_prcp_np.max()"
   ]
  },
  {
   "cell_type": "markdown",
   "metadata": {},
   "source": [
    "### Round the temperature and precipitations data to 2 decimals, and extract each year in a separate list"
   ]
  },
  {
   "cell_type": "markdown",
   "metadata": {},
   "source": [
    "#### Temperature in 2022"
   ]
  },
  {
   "cell_type": "code",
   "execution_count": 18,
   "metadata": {},
   "outputs": [
    {
     "data": {
      "text/plain": [
       "array([-0.99,  1.71,  3.46,  8.74, 15.66, 20.48, 22.17, 21.94, 14.3 ,\n",
       "       10.39,  5.65,  2.01])"
      ]
     },
     "execution_count": 18,
     "metadata": {},
     "output_type": "execute_result"
    }
   ],
   "source": [
    "avg_temp_2022 = celsius_avg_temp_np[0:12]\n",
    "\n",
    "avg_temp_2022 = np.round(avg_temp_2022, 2)\n",
    "\n",
    "avg_temp_2022"
   ]
  },
  {
   "cell_type": "markdown",
   "metadata": {},
   "source": [
    "#### Temperature in 2023"
   ]
  },
  {
   "cell_type": "code",
   "execution_count": 19,
   "metadata": {},
   "outputs": [
    {
     "data": {
      "text/plain": [
       "array([ 3.41,  0.71,  6.16,  8.96, 15.23, 19.15, 21.88, 22.15, 18.61,\n",
       "       12.24,  5.43,  1.59])"
      ]
     },
     "execution_count": 19,
     "metadata": {},
     "output_type": "execute_result"
    }
   ],
   "source": [
    "avg_temp_2023 = celsius_avg_temp_np[12:24]\n",
    "\n",
    "avg_temp_2023 = np.round(avg_temp_2023, 2)\n",
    "\n",
    "avg_temp_2023"
   ]
  },
  {
   "cell_type": "markdown",
   "metadata": {},
   "source": [
    "#### Temperature 2024"
   ]
  },
  {
   "cell_type": "code",
   "execution_count": 20,
   "metadata": {},
   "outputs": [
    {
     "data": {
      "text/plain": [
       "array([ 0.14,  6.32,  7.67, 12.74, 15.98, 21.87, 23.71, 23.28, 17.41,\n",
       "        9.68,  2.59,  1.17])"
      ]
     },
     "execution_count": 20,
     "metadata": {},
     "output_type": "execute_result"
    }
   ],
   "source": [
    "avg_temp_2024 = celsius_avg_temp_np[24:37]\n",
    "\n",
    "avg_temp_2024 = np.round(avg_temp_2024, 2)\n",
    "\n",
    "avg_temp_2024"
   ]
  },
  {
   "cell_type": "markdown",
   "metadata": {},
   "source": [
    "#### Precipitations in 2022"
   ]
  },
  {
   "cell_type": "code",
   "execution_count": 21,
   "metadata": {},
   "outputs": [
    {
     "data": {
      "text/plain": [
       "array([0.54, 0.41, 0.32, 1.63, 2.97, 0.84, 0.82, 2.83, 2.97, 1.02, 1.66,\n",
       "       0.77])"
      ]
     },
     "execution_count": 21,
     "metadata": {},
     "output_type": "execute_result"
    }
   ],
   "source": [
    "prcp_mm_2022 = mm_avg_prcp_np[0:12]\n",
    "\n",
    "prcp_mm_2022 = np.round(prcp_mm_2022, 2)\n",
    "\n",
    "prcp_mm_2022"
   ]
  },
  {
   "cell_type": "markdown",
   "metadata": {},
   "source": [
    "#### Precipitations in 2023"
   ]
  },
  {
   "cell_type": "code",
   "execution_count": 22,
   "metadata": {},
   "outputs": [
    {
     "data": {
      "text/plain": [
       "array([1.52, 2.01, 0.64, 2.  , 2.35, 2.18, 2.6 , 1.84, 4.86, 0.25, 2.48,\n",
       "       0.79])"
      ]
     },
     "execution_count": 22,
     "metadata": {},
     "output_type": "execute_result"
    }
   ],
   "source": [
    "prcp_mm_2023 = mm_avg_prcp_np[12:24]\n",
    "\n",
    "prcp_mm_2023 = np.round(prcp_mm_2023, 2)\n",
    "\n",
    "prcp_mm_2023"
   ]
  },
  {
   "cell_type": "markdown",
   "metadata": {},
   "source": [
    "#### Precipitations in 2024"
   ]
  },
  {
   "cell_type": "code",
   "execution_count": 23,
   "metadata": {},
   "outputs": [
    {
     "data": {
      "text/plain": [
       "array([0.35, 1.01, 0.88, 1.57, 1.07, 2.96, 2.51, 1.78, 1.8 , 0.86, 0.69,\n",
       "       0.61])"
      ]
     },
     "execution_count": 23,
     "metadata": {},
     "output_type": "execute_result"
    }
   ],
   "source": [
    "prcp_mm_2024 = mm_avg_prcp_np[24:37]\n",
    "\n",
    "prcp_mm_2024 = np.round(prcp_mm_2024, 2)\n",
    "\n",
    "prcp_mm_2024"
   ]
  },
  {
   "cell_type": "markdown",
   "metadata": {},
   "source": [
    "### Create 2 lists that contains only years and months"
   ]
  },
  {
   "cell_type": "code",
   "execution_count": 24,
   "metadata": {},
   "outputs": [
    {
     "name": "stdout",
     "output_type": "stream",
     "text": [
      "All years: \n",
      "[2022 2022 2022 2022 2022 2022 2022 2022 2022 2022 2022 2022 2023 2023\n",
      " 2023 2023 2023 2023 2023 2023 2023 2023 2023 2023 2024 2024 2024 2024\n",
      " 2024 2024 2024 2024 2024 2024 2024 2024]\n",
      "All months: \n",
      "[ 1  2  3  4  5  6  7  8  9 10 11 12  1  2  3  4  5  6  7  8  9 10 11 12\n",
      "  1  2  3  4  5  6  7  8  9 10 11 12]\n"
     ]
    }
   ],
   "source": [
    "\n",
    "all_years = []\n",
    "all_months = []\n",
    "\n",
    "for year in desired_years:\n",
    "\n",
    "    for i in range(12):\n",
    "\n",
    "        all_months.append(i + 1)\n",
    "        all_years.append(year)\n",
    "\n",
    "all_months = np.ravel(all_months)\n",
    "all_years = np.ravel(all_years)\n",
    "\n",
    "print(f'All years: \\n{all_years}')\n",
    "print(f'All months: \\n{all_months}')"
   ]
  },
  {
   "cell_type": "markdown",
   "metadata": {},
   "source": [
    "### Extract months for a single year"
   ]
  },
  {
   "cell_type": "code",
   "execution_count": 25,
   "metadata": {},
   "outputs": [
    {
     "data": {
      "text/plain": [
       "array([ 1,  2,  3,  4,  5,  6,  7,  8,  9, 10, 11, 12])"
      ]
     },
     "execution_count": 25,
     "metadata": {},
     "output_type": "execute_result"
    }
   ],
   "source": [
    "months_single = all_months[0:12]\n",
    "\n",
    "months_single"
   ]
  },
  {
   "cell_type": "markdown",
   "metadata": {},
   "source": [
    "### Extract years labels for each year"
   ]
  },
  {
   "cell_type": "code",
   "execution_count": 26,
   "metadata": {},
   "outputs": [
    {
     "data": {
      "text/plain": [
       "array([2024, 2024, 2024, 2024, 2024, 2024, 2024, 2024, 2024, 2024, 2024,\n",
       "       2024])"
      ]
     },
     "execution_count": 26,
     "metadata": {},
     "output_type": "execute_result"
    }
   ],
   "source": [
    "years_2022 = all_years[0:12]\n",
    "years_2023 = all_years[12:24]\n",
    "years_2024 = all_years[24:37]\n",
    "\n",
    "# Print years labels for 2024\n",
    "years_2024"
   ]
  },
  {
   "cell_type": "markdown",
   "metadata": {},
   "source": [
    "### Store temperatures from each year in separatare DataFrames"
   ]
  },
  {
   "cell_type": "code",
   "execution_count": 27,
   "metadata": {},
   "outputs": [
    {
     "data": {
      "text/html": [
       "<div>\n",
       "<style scoped>\n",
       "    .dataframe tbody tr th:only-of-type {\n",
       "        vertical-align: middle;\n",
       "    }\n",
       "\n",
       "    .dataframe tbody tr th {\n",
       "        vertical-align: top;\n",
       "    }\n",
       "\n",
       "    .dataframe thead th {\n",
       "        text-align: right;\n",
       "    }\n",
       "</style>\n",
       "<table border=\"1\" class=\"dataframe\">\n",
       "  <thead>\n",
       "    <tr style=\"text-align: right;\">\n",
       "      <th></th>\n",
       "      <th>Year</th>\n",
       "      <th>Month</th>\n",
       "      <th>Mean Temp Celsius</th>\n",
       "    </tr>\n",
       "  </thead>\n",
       "  <tbody>\n",
       "    <tr>\n",
       "      <th>0</th>\n",
       "      <td>2024</td>\n",
       "      <td>1</td>\n",
       "      <td>0.14</td>\n",
       "    </tr>\n",
       "    <tr>\n",
       "      <th>1</th>\n",
       "      <td>2024</td>\n",
       "      <td>2</td>\n",
       "      <td>6.32</td>\n",
       "    </tr>\n",
       "    <tr>\n",
       "      <th>2</th>\n",
       "      <td>2024</td>\n",
       "      <td>3</td>\n",
       "      <td>7.67</td>\n",
       "    </tr>\n",
       "    <tr>\n",
       "      <th>3</th>\n",
       "      <td>2024</td>\n",
       "      <td>4</td>\n",
       "      <td>12.74</td>\n",
       "    </tr>\n",
       "    <tr>\n",
       "      <th>4</th>\n",
       "      <td>2024</td>\n",
       "      <td>5</td>\n",
       "      <td>15.98</td>\n",
       "    </tr>\n",
       "    <tr>\n",
       "      <th>5</th>\n",
       "      <td>2024</td>\n",
       "      <td>6</td>\n",
       "      <td>21.87</td>\n",
       "    </tr>\n",
       "    <tr>\n",
       "      <th>6</th>\n",
       "      <td>2024</td>\n",
       "      <td>7</td>\n",
       "      <td>23.71</td>\n",
       "    </tr>\n",
       "    <tr>\n",
       "      <th>7</th>\n",
       "      <td>2024</td>\n",
       "      <td>8</td>\n",
       "      <td>23.28</td>\n",
       "    </tr>\n",
       "    <tr>\n",
       "      <th>8</th>\n",
       "      <td>2024</td>\n",
       "      <td>9</td>\n",
       "      <td>17.41</td>\n",
       "    </tr>\n",
       "    <tr>\n",
       "      <th>9</th>\n",
       "      <td>2024</td>\n",
       "      <td>10</td>\n",
       "      <td>9.68</td>\n",
       "    </tr>\n",
       "    <tr>\n",
       "      <th>10</th>\n",
       "      <td>2024</td>\n",
       "      <td>11</td>\n",
       "      <td>2.59</td>\n",
       "    </tr>\n",
       "    <tr>\n",
       "      <th>11</th>\n",
       "      <td>2024</td>\n",
       "      <td>12</td>\n",
       "      <td>1.17</td>\n",
       "    </tr>\n",
       "  </tbody>\n",
       "</table>\n",
       "</div>"
      ],
      "text/plain": [
       "    Year  Month  Mean Temp Celsius\n",
       "0   2024      1               0.14\n",
       "1   2024      2               6.32\n",
       "2   2024      3               7.67\n",
       "3   2024      4              12.74\n",
       "4   2024      5              15.98\n",
       "5   2024      6              21.87\n",
       "6   2024      7              23.71\n",
       "7   2024      8              23.28\n",
       "8   2024      9              17.41\n",
       "9   2024     10               9.68\n",
       "10  2024     11               2.59\n",
       "11  2024     12               1.17"
      ]
     },
     "execution_count": 27,
     "metadata": {},
     "output_type": "execute_result"
    }
   ],
   "source": [
    "temp_2022_df = pd.DataFrame({'Year': years_2022, 'Month': months_single, 'Mean Temp Celsius': avg_temp_2022})\n",
    "temp_2023_df = pd.DataFrame({'Year': years_2023, 'Month': months_single, 'Mean Temp Celsius': avg_temp_2023})\n",
    "temp_2024_df = pd.DataFrame({'Year': years_2024, 'Month': months_single, 'Mean Temp Celsius': avg_temp_2024})\n",
    "\n",
    "# Print temperatures from 2024 for testing\n",
    "temp_2024_df"
   ]
  },
  {
   "cell_type": "markdown",
   "metadata": {},
   "source": [
    "### Store precipitations from each year in separatare DataFrames"
   ]
  },
  {
   "cell_type": "code",
   "execution_count": 28,
   "metadata": {},
   "outputs": [
    {
     "data": {
      "text/html": [
       "<div>\n",
       "<style scoped>\n",
       "    .dataframe tbody tr th:only-of-type {\n",
       "        vertical-align: middle;\n",
       "    }\n",
       "\n",
       "    .dataframe tbody tr th {\n",
       "        vertical-align: top;\n",
       "    }\n",
       "\n",
       "    .dataframe thead th {\n",
       "        text-align: right;\n",
       "    }\n",
       "</style>\n",
       "<table border=\"1\" class=\"dataframe\">\n",
       "  <thead>\n",
       "    <tr style=\"text-align: right;\">\n",
       "      <th></th>\n",
       "      <th>Year</th>\n",
       "      <th>Month</th>\n",
       "      <th>Mean Temp Celsius</th>\n",
       "    </tr>\n",
       "  </thead>\n",
       "  <tbody>\n",
       "    <tr>\n",
       "      <th>0</th>\n",
       "      <td>2022</td>\n",
       "      <td>1</td>\n",
       "      <td>0.54</td>\n",
       "    </tr>\n",
       "    <tr>\n",
       "      <th>1</th>\n",
       "      <td>2022</td>\n",
       "      <td>2</td>\n",
       "      <td>0.41</td>\n",
       "    </tr>\n",
       "    <tr>\n",
       "      <th>2</th>\n",
       "      <td>2022</td>\n",
       "      <td>3</td>\n",
       "      <td>0.32</td>\n",
       "    </tr>\n",
       "    <tr>\n",
       "      <th>3</th>\n",
       "      <td>2022</td>\n",
       "      <td>4</td>\n",
       "      <td>1.63</td>\n",
       "    </tr>\n",
       "    <tr>\n",
       "      <th>4</th>\n",
       "      <td>2022</td>\n",
       "      <td>5</td>\n",
       "      <td>2.97</td>\n",
       "    </tr>\n",
       "    <tr>\n",
       "      <th>5</th>\n",
       "      <td>2022</td>\n",
       "      <td>6</td>\n",
       "      <td>0.84</td>\n",
       "    </tr>\n",
       "    <tr>\n",
       "      <th>6</th>\n",
       "      <td>2022</td>\n",
       "      <td>7</td>\n",
       "      <td>0.82</td>\n",
       "    </tr>\n",
       "    <tr>\n",
       "      <th>7</th>\n",
       "      <td>2022</td>\n",
       "      <td>8</td>\n",
       "      <td>2.83</td>\n",
       "    </tr>\n",
       "    <tr>\n",
       "      <th>8</th>\n",
       "      <td>2022</td>\n",
       "      <td>9</td>\n",
       "      <td>2.97</td>\n",
       "    </tr>\n",
       "    <tr>\n",
       "      <th>9</th>\n",
       "      <td>2022</td>\n",
       "      <td>10</td>\n",
       "      <td>1.02</td>\n",
       "    </tr>\n",
       "    <tr>\n",
       "      <th>10</th>\n",
       "      <td>2022</td>\n",
       "      <td>11</td>\n",
       "      <td>1.66</td>\n",
       "    </tr>\n",
       "    <tr>\n",
       "      <th>11</th>\n",
       "      <td>2022</td>\n",
       "      <td>12</td>\n",
       "      <td>0.77</td>\n",
       "    </tr>\n",
       "  </tbody>\n",
       "</table>\n",
       "</div>"
      ],
      "text/plain": [
       "    Year  Month  Mean Temp Celsius\n",
       "0   2022      1               0.54\n",
       "1   2022      2               0.41\n",
       "2   2022      3               0.32\n",
       "3   2022      4               1.63\n",
       "4   2022      5               2.97\n",
       "5   2022      6               0.84\n",
       "6   2022      7               0.82\n",
       "7   2022      8               2.83\n",
       "8   2022      9               2.97\n",
       "9   2022     10               1.02\n",
       "10  2022     11               1.66\n",
       "11  2022     12               0.77"
      ]
     },
     "execution_count": 28,
     "metadata": {},
     "output_type": "execute_result"
    }
   ],
   "source": [
    "prcp_2022_df = pd.DataFrame({'Year': years_2022, 'Month': months_single, 'Mean Temp Celsius': prcp_mm_2022})\n",
    "prcp_2023_df = pd.DataFrame({'Year': years_2023, 'Month': months_single, 'Mean Temp Celsius': prcp_mm_2023})\n",
    "prcp_2024_df = pd.DataFrame({'Year': years_2024, 'Month': months_single, 'Mean Temp Celsius': prcp_mm_2024})\n",
    "\n",
    "# Print precipitations from 2022 for testing\n",
    "prcp_2022_df"
   ]
  },
  {
   "cell_type": "markdown",
   "metadata": {},
   "source": [
    "## Join 2022 - 2024 average temperatures in one single graph"
   ]
  },
  {
   "cell_type": "code",
   "execution_count": 29,
   "metadata": {},
   "outputs": [],
   "source": [
    "# Sample DataFrame\n",
    "temp_data = {\n",
    "    'Month': months_single,\n",
    "    '2022': avg_temp_2022,\n",
    "    '2023': avg_temp_2023,\n",
    "    '2024': avg_temp_2024\n",
    "}\n",
    "temp_df = pd.DataFrame(temp_data)\n",
    "\n",
    "# Reshape the DataFrame to long format for Seaborn\n",
    "df_melted = temp_df.melt(id_vars=['Month'], value_vars=['2022', '2023', '2024'], \n",
    "                     var_name = 'Legend', value_name = 'Mean Temperature in Celsius')"
   ]
  },
  {
   "cell_type": "markdown",
   "metadata": {},
   "source": [
    "### Defining a special function to add the Celsius sign at the end of each temperature"
   ]
  },
  {
   "cell_type": "code",
   "execution_count": 30,
   "metadata": {},
   "outputs": [],
   "source": [
    "def celsius_formatter(x, pos):\n",
    "    \n",
    "    return f'{x:.0f}°C'"
   ]
  },
  {
   "cell_type": "markdown",
   "metadata": {},
   "source": [
    "## Displaying the graph for temperatures"
   ]
  },
  {
   "cell_type": "code",
   "execution_count": 31,
   "metadata": {},
   "outputs": [
    {
     "name": "stderr",
     "output_type": "stream",
     "text": [
      "/var/folders/xy/51wr98g97xn6sv90wcdyfjf40000gn/T/ipykernel_12044/3055109864.py:6: UserWarning: \n",
      "\n",
      "The `scale` parameter is deprecated and will be removed in v0.15.0. You can now control the size of each plot element using matplotlib `Line2D` parameters (e.g., `linewidth`, `markersize`, etc.).\n",
      "\n",
      "  point_plot = sns.pointplot(data=df_melted, x = 'Month', y = 'Mean Temperature in Celsius', hue = 'Legend', dodge = True, palette = 'Oranges', scale = 2.0)\n"
     ]
    },
    {
     "data": {
      "image/png": "[encoded data removed]",
      "text/plain": [
       "<Figure size 2000x1100 with 1 Axes>"
      ]
     },
     "metadata": {},
     "output_type": "display_data"
    }
   ],
   "source": [
    "plt.figure(figsize=(20, 11))\n",
    "\n",
    "plt.rcParams['font.family'] = 'monospace'\n",
    "\n",
    "# Plot using pointplot\n",
    "point_plot = sns.pointplot(data=df_melted, x = 'Month', y = 'Mean Temperature in Celsius', hue = 'Legend', dodge = True, palette = 'Oranges', scale = 2.0)\n",
    "\n",
    "plt.xlabel('Month', fontsize = 20, labelpad = 30)\n",
    "plt.ylabel('Mean Temperature', fontsize = 20, labelpad = 30)\n",
    "\n",
    "plt.title('Mean temperature between 2022-2024 in Cluj-Napoca', fontsize = 25, fontweight = 'bold', pad = 40)\n",
    "\n",
    "yticks = point_plot.get_yticks()  # Get original y-axis values\n",
    "point_plot.set_yticks(yticks)  # Set the new y-ticks at the same positions\n",
    "# point_plot.set_yticklabels([f\"{int(y / 1000000)}\" for y in yticks])  # Multiply labels by 10\n",
    "\n",
    "plt.xticks(fontsize = 16)\n",
    "plt.yticks(fontsize = 16)\n",
    "plt.legend(loc = 'upper left', prop = {'size': 20})\n",
    "\n",
    "plt.gca().yaxis.set_major_formatter(FuncFormatter(celsius_formatter))\n",
    "\n",
    "sns.despine()\n",
    "\n",
    "plt.show()"
   ]
  },
  {
   "cell_type": "markdown",
   "metadata": {},
   "source": [
    "## Join 2022 - 2024 average precipitations in one single graph"
   ]
  },
  {
   "cell_type": "code",
   "execution_count": 32,
   "metadata": {},
   "outputs": [],
   "source": [
    "# Sample DataFrame\n",
    "temp_data = {\n",
    "    'Month': months_single,\n",
    "    '2022': prcp_mm_2022,\n",
    "    '2023': prcp_mm_2023,\n",
    "    '2024': prcp_mm_2024\n",
    "}\n",
    "temp_df = pd.DataFrame(temp_data)\n",
    "\n",
    "# Reshape the DataFrame to long format for Seaborn\n",
    "df_melted = temp_df.melt(id_vars=['Month'], value_vars=['2022', '2023', '2024'], \n",
    "                     var_name = 'Legend', value_name = 'Mean PRCP in mm')"
   ]
  },
  {
   "cell_type": "code",
   "execution_count": 33,
   "metadata": {},
   "outputs": [],
   "source": [
    "def mm_formatter(x, pos):\n",
    "    \n",
    "    return f'{x:.0f} mm'"
   ]
  },
  {
   "cell_type": "markdown",
   "metadata": {},
   "source": [
    "## Displaying the graph for precipitations"
   ]
  },
  {
   "cell_type": "code",
   "execution_count": 34,
   "metadata": {},
   "outputs": [
    {
     "name": "stderr",
     "output_type": "stream",
     "text": [
      "/var/folders/xy/51wr98g97xn6sv90wcdyfjf40000gn/T/ipykernel_12044/2269444495.py:6: UserWarning: \n",
      "\n",
      "The `scale` parameter is deprecated and will be removed in v0.15.0. You can now control the size of each plot element using matplotlib `Line2D` parameters (e.g., `linewidth`, `markersize`, etc.).\n",
      "\n",
      "  point_plot = sns.pointplot(data=df_melted, x = 'Month', y = 'Mean PRCP in mm', hue = 'Legend', dodge = True, palette = 'Blues', scale = 2.0)\n"
     ]
    },
    {
     "data": {
      "image/png": "[encoded data removed]",
      "text/plain": [
       "<Figure size 2000x1100 with 1 Axes>"
      ]
     },
     "metadata": {},
     "output_type": "display_data"
    }
   ],
   "source": [
    "plt.figure(figsize=(20, 11))\n",
    "\n",
    "# plt.rcParams['font.family'] = 'monospace'\n",
    "\n",
    "# Plot using pointplot\n",
    "point_plot = sns.pointplot(data=df_melted, x = 'Month', y = 'Mean PRCP in mm', hue = 'Legend', dodge = True, palette = 'Blues', scale = 2.0)\n",
    "\n",
    "plt.xlabel('Month', fontsize = 20, labelpad = 30)\n",
    "plt.ylabel('Precipitations in mm', fontsize = 20, labelpad = 30)\n",
    "\n",
    "plt.title('Average precipitations between 2022-2024 in Cluj-Napoca', fontsize = 25, fontweight = 'bold', pad = 40)\n",
    "\n",
    "yticks = point_plot.get_yticks()  # Get original y-axis values\n",
    "point_plot.set_yticks(yticks)  # Set the new y-ticks at the same positions\n",
    "# point_plot.set_yticklabels([f\"{int(y / 1000000)}\" for y in yticks])  # Multiply labels by 10\n",
    "\n",
    "plt.xticks(fontsize = 16)\n",
    "plt.yticks(fontsize = 16)\n",
    "plt.legend(loc = 'upper left', prop = {'size': 20})\n",
    "\n",
    "plt.gca().yaxis.set_major_formatter(FuncFormatter(mm_formatter))\n",
    "\n",
    "sns.despine()\n",
    "\n",
    "plt.show()"
   ]
  },
  {
   "cell_type": "markdown",
   "metadata": {},
   "source": [
    "### Make the final cvs file - mean temp and prcp between 2022 - 2024"
   ]
  },
  {
   "cell_type": "code",
   "execution_count": 35,
   "metadata": {},
   "outputs": [
    {
     "data": {
      "text/plain": [
       "array([-0.99,  1.71,  3.46,  8.74, 15.66, 20.48, 22.17, 21.94, 14.3 ,\n",
       "       10.39,  5.65,  2.01,  3.41,  0.71,  6.16,  8.96, 15.23, 19.15,\n",
       "       21.88, 22.15, 18.61, 12.24,  5.43,  1.59,  0.14,  6.32,  7.67,\n",
       "       12.74, 15.98, 21.87, 23.71, 23.28, 17.41,  9.68,  2.59,  1.17])"
      ]
     },
     "execution_count": 35,
     "metadata": {},
     "output_type": "execute_result"
    }
   ],
   "source": [
    "final_avg_temp_celsius = np.round(celsius_avg_temp_np, 2)\n",
    "\n",
    "final_avg_temp_celsius"
   ]
  },
  {
   "cell_type": "code",
   "execution_count": 36,
   "metadata": {},
   "outputs": [
    {
     "data": {
      "text/plain": [
       "array([0.54, 0.41, 0.32, 1.63, 2.97, 0.84, 0.82, 2.83, 2.97, 1.02, 1.66,\n",
       "       0.77, 1.52, 2.01, 0.64, 2.  , 2.35, 2.18, 2.6 , 1.84, 4.86, 0.25,\n",
       "       2.48, 0.79, 0.35, 1.01, 0.88, 1.57, 1.07, 2.96, 2.51, 1.78, 1.8 ,\n",
       "       0.86, 0.69, 0.61])"
      ]
     },
     "execution_count": 36,
     "metadata": {},
     "output_type": "execute_result"
    }
   ],
   "source": [
    "final_prcp_mm = np.round(mm_avg_prcp_np, 2)\n",
    "\n",
    "final_prcp_mm"
   ]
  },
  {
   "cell_type": "code",
   "execution_count": 37,
   "metadata": {},
   "outputs": [
    {
     "data": {
      "text/html": [
       "<div>\n",
       "<style scoped>\n",
       "    .dataframe tbody tr th:only-of-type {\n",
       "        vertical-align: middle;\n",
       "    }\n",
       "\n",
       "    .dataframe tbody tr th {\n",
       "        vertical-align: top;\n",
       "    }\n",
       "\n",
       "    .dataframe thead th {\n",
       "        text-align: right;\n",
       "    }\n",
       "</style>\n",
       "<table border=\"1\" class=\"dataframe\">\n",
       "  <thead>\n",
       "    <tr style=\"text-align: right;\">\n",
       "      <th></th>\n",
       "      <th>Year</th>\n",
       "      <th>Month</th>\n",
       "      <th>Average Temperature</th>\n",
       "      <th>Average Precipitation</th>\n",
       "    </tr>\n",
       "  </thead>\n",
       "  <tbody>\n",
       "    <tr>\n",
       "      <th>0</th>\n",
       "      <td>2022</td>\n",
       "      <td>1</td>\n",
       "      <td>-0.99</td>\n",
       "      <td>0.54</td>\n",
       "    </tr>\n",
       "    <tr>\n",
       "      <th>1</th>\n",
       "      <td>2022</td>\n",
       "      <td>2</td>\n",
       "      <td>1.71</td>\n",
       "      <td>0.41</td>\n",
       "    </tr>\n",
       "    <tr>\n",
       "      <th>2</th>\n",
       "      <td>2022</td>\n",
       "      <td>3</td>\n",
       "      <td>3.46</td>\n",
       "      <td>0.32</td>\n",
       "    </tr>\n",
       "    <tr>\n",
       "      <th>3</th>\n",
       "      <td>2022</td>\n",
       "      <td>4</td>\n",
       "      <td>8.74</td>\n",
       "      <td>1.63</td>\n",
       "    </tr>\n",
       "    <tr>\n",
       "      <th>4</th>\n",
       "      <td>2022</td>\n",
       "      <td>5</td>\n",
       "      <td>15.66</td>\n",
       "      <td>2.97</td>\n",
       "    </tr>\n",
       "    <tr>\n",
       "      <th>5</th>\n",
       "      <td>2022</td>\n",
       "      <td>6</td>\n",
       "      <td>20.48</td>\n",
       "      <td>0.84</td>\n",
       "    </tr>\n",
       "    <tr>\n",
       "      <th>6</th>\n",
       "      <td>2022</td>\n",
       "      <td>7</td>\n",
       "      <td>22.17</td>\n",
       "      <td>0.82</td>\n",
       "    </tr>\n",
       "    <tr>\n",
       "      <th>7</th>\n",
       "      <td>2022</td>\n",
       "      <td>8</td>\n",
       "      <td>21.94</td>\n",
       "      <td>2.83</td>\n",
       "    </tr>\n",
       "    <tr>\n",
       "      <th>8</th>\n",
       "      <td>2022</td>\n",
       "      <td>9</td>\n",
       "      <td>14.30</td>\n",
       "      <td>2.97</td>\n",
       "    </tr>\n",
       "    <tr>\n",
       "      <th>9</th>\n",
       "      <td>2022</td>\n",
       "      <td>10</td>\n",
       "      <td>10.39</td>\n",
       "      <td>1.02</td>\n",
       "    </tr>\n",
       "    <tr>\n",
       "      <th>10</th>\n",
       "      <td>2022</td>\n",
       "      <td>11</td>\n",
       "      <td>5.65</td>\n",
       "      <td>1.66</td>\n",
       "    </tr>\n",
       "    <tr>\n",
       "      <th>11</th>\n",
       "      <td>2022</td>\n",
       "      <td>12</td>\n",
       "      <td>2.01</td>\n",
       "      <td>0.77</td>\n",
       "    </tr>\n",
       "    <tr>\n",
       "      <th>12</th>\n",
       "      <td>2023</td>\n",
       "      <td>1</td>\n",
       "      <td>3.41</td>\n",
       "      <td>1.52</td>\n",
       "    </tr>\n",
       "    <tr>\n",
       "      <th>13</th>\n",
       "      <td>2023</td>\n",
       "      <td>2</td>\n",
       "      <td>0.71</td>\n",
       "      <td>2.01</td>\n",
       "    </tr>\n",
       "    <tr>\n",
       "      <th>14</th>\n",
       "      <td>2023</td>\n",
       "      <td>3</td>\n",
       "      <td>6.16</td>\n",
       "      <td>0.64</td>\n",
       "    </tr>\n",
       "    <tr>\n",
       "      <th>15</th>\n",
       "      <td>2023</td>\n",
       "      <td>4</td>\n",
       "      <td>8.96</td>\n",
       "      <td>2.00</td>\n",
       "    </tr>\n",
       "    <tr>\n",
       "      <th>16</th>\n",
       "      <td>2023</td>\n",
       "      <td>5</td>\n",
       "      <td>15.23</td>\n",
       "      <td>2.35</td>\n",
       "    </tr>\n",
       "    <tr>\n",
       "      <th>17</th>\n",
       "      <td>2023</td>\n",
       "      <td>6</td>\n",
       "      <td>19.15</td>\n",
       "      <td>2.18</td>\n",
       "    </tr>\n",
       "    <tr>\n",
       "      <th>18</th>\n",
       "      <td>2023</td>\n",
       "      <td>7</td>\n",
       "      <td>21.88</td>\n",
       "      <td>2.60</td>\n",
       "    </tr>\n",
       "    <tr>\n",
       "      <th>19</th>\n",
       "      <td>2023</td>\n",
       "      <td>8</td>\n",
       "      <td>22.15</td>\n",
       "      <td>1.84</td>\n",
       "    </tr>\n",
       "    <tr>\n",
       "      <th>20</th>\n",
       "      <td>2023</td>\n",
       "      <td>9</td>\n",
       "      <td>18.61</td>\n",
       "      <td>4.86</td>\n",
       "    </tr>\n",
       "    <tr>\n",
       "      <th>21</th>\n",
       "      <td>2023</td>\n",
       "      <td>10</td>\n",
       "      <td>12.24</td>\n",
       "      <td>0.25</td>\n",
       "    </tr>\n",
       "    <tr>\n",
       "      <th>22</th>\n",
       "      <td>2023</td>\n",
       "      <td>11</td>\n",
       "      <td>5.43</td>\n",
       "      <td>2.48</td>\n",
       "    </tr>\n",
       "    <tr>\n",
       "      <th>23</th>\n",
       "      <td>2023</td>\n",
       "      <td>12</td>\n",
       "      <td>1.59</td>\n",
       "      <td>0.79</td>\n",
       "    </tr>\n",
       "    <tr>\n",
       "      <th>24</th>\n",
       "      <td>2024</td>\n",
       "      <td>1</td>\n",
       "      <td>0.14</td>\n",
       "      <td>0.35</td>\n",
       "    </tr>\n",
       "    <tr>\n",
       "      <th>25</th>\n",
       "      <td>2024</td>\n",
       "      <td>2</td>\n",
       "      <td>6.32</td>\n",
       "      <td>1.01</td>\n",
       "    </tr>\n",
       "    <tr>\n",
       "      <th>26</th>\n",
       "      <td>2024</td>\n",
       "      <td>3</td>\n",
       "      <td>7.67</td>\n",
       "      <td>0.88</td>\n",
       "    </tr>\n",
       "    <tr>\n",
       "      <th>27</th>\n",
       "      <td>2024</td>\n",
       "      <td>4</td>\n",
       "      <td>12.74</td>\n",
       "      <td>1.57</td>\n",
       "    </tr>\n",
       "    <tr>\n",
       "      <th>28</th>\n",
       "      <td>2024</td>\n",
       "      <td>5</td>\n",
       "      <td>15.98</td>\n",
       "      <td>1.07</td>\n",
       "    </tr>\n",
       "    <tr>\n",
       "      <th>29</th>\n",
       "      <td>2024</td>\n",
       "      <td>6</td>\n",
       "      <td>21.87</td>\n",
       "      <td>2.96</td>\n",
       "    </tr>\n",
       "    <tr>\n",
       "      <th>30</th>\n",
       "      <td>2024</td>\n",
       "      <td>7</td>\n",
       "      <td>23.71</td>\n",
       "      <td>2.51</td>\n",
       "    </tr>\n",
       "    <tr>\n",
       "      <th>31</th>\n",
       "      <td>2024</td>\n",
       "      <td>8</td>\n",
       "      <td>23.28</td>\n",
       "      <td>1.78</td>\n",
       "    </tr>\n",
       "    <tr>\n",
       "      <th>32</th>\n",
       "      <td>2024</td>\n",
       "      <td>9</td>\n",
       "      <td>17.41</td>\n",
       "      <td>1.80</td>\n",
       "    </tr>\n",
       "    <tr>\n",
       "      <th>33</th>\n",
       "      <td>2024</td>\n",
       "      <td>10</td>\n",
       "      <td>9.68</td>\n",
       "      <td>0.86</td>\n",
       "    </tr>\n",
       "    <tr>\n",
       "      <th>34</th>\n",
       "      <td>2024</td>\n",
       "      <td>11</td>\n",
       "      <td>2.59</td>\n",
       "      <td>0.69</td>\n",
       "    </tr>\n",
       "    <tr>\n",
       "      <th>35</th>\n",
       "      <td>2024</td>\n",
       "      <td>12</td>\n",
       "      <td>1.17</td>\n",
       "      <td>0.61</td>\n",
       "    </tr>\n",
       "  </tbody>\n",
       "</table>\n",
       "</div>"
      ],
      "text/plain": [
       "    Year  Month  Average Temperature  Average Precipitation\n",
       "0   2022      1                -0.99                   0.54\n",
       "1   2022      2                 1.71                   0.41\n",
       "2   2022      3                 3.46                   0.32\n",
       "3   2022      4                 8.74                   1.63\n",
       "4   2022      5                15.66                   2.97\n",
       "5   2022      6                20.48                   0.84\n",
       "6   2022      7                22.17                   0.82\n",
       "7   2022      8                21.94                   2.83\n",
       "8   2022      9                14.30                   2.97\n",
       "9   2022     10                10.39                   1.02\n",
       "10  2022     11                 5.65                   1.66\n",
       "11  2022     12                 2.01                   0.77\n",
       "12  2023      1                 3.41                   1.52\n",
       "13  2023      2                 0.71                   2.01\n",
       "14  2023      3                 6.16                   0.64\n",
       "15  2023      4                 8.96                   2.00\n",
       "16  2023      5                15.23                   2.35\n",
       "17  2023      6                19.15                   2.18\n",
       "18  2023      7                21.88                   2.60\n",
       "19  2023      8                22.15                   1.84\n",
       "20  2023      9                18.61                   4.86\n",
       "21  2023     10                12.24                   0.25\n",
       "22  2023     11                 5.43                   2.48\n",
       "23  2023     12                 1.59                   0.79\n",
       "24  2024      1                 0.14                   0.35\n",
       "25  2024      2                 6.32                   1.01\n",
       "26  2024      3                 7.67                   0.88\n",
       "27  2024      4                12.74                   1.57\n",
       "28  2024      5                15.98                   1.07\n",
       "29  2024      6                21.87                   2.96\n",
       "30  2024      7                23.71                   2.51\n",
       "31  2024      8                23.28                   1.78\n",
       "32  2024      9                17.41                   1.80\n",
       "33  2024     10                 9.68                   0.86\n",
       "34  2024     11                 2.59                   0.69\n",
       "35  2024     12                 1.17                   0.61"
      ]
     },
     "execution_count": 37,
     "metadata": {},
     "output_type": "execute_result"
    }
   ],
   "source": [
    "final_df = pd.DataFrame({\n",
    "    'Year': all_years,\n",
    "    'Month': all_months,\n",
    "    'Average Temperature': final_avg_temp_celsius,\n",
    "    'Average Precipitation': final_prcp_mm\n",
    "})\n",
    "\n",
    "final_df"
   ]
  },
  {
   "cell_type": "markdown",
   "metadata": {},
   "source": [
    "#### Saving the final DataFrame in an Excel file"
   ]
  },
  {
   "cell_type": "code",
   "execution_count": 38,
   "metadata": {},
   "outputs": [],
   "source": [
    "final_df.to_excel('temp_prcp.xlsx', index = False)"
   ]
  }
 ],
 "metadata": {
  "kernelspec": {
   "display_name": "base",
   "language": "python",
   "name": "python3"
  },
  "language_info": {
   "codemirror_mode": {
    "name": "ipython",
    "version": 3
   },
   "file_extension": ".py",
   "mimetype": "text/x-python",
   "name": "python",
   "nbconvert_exporter": "python",
   "pygments_lexer": "ipython3",
   "version": "3.12.7"
  }
 },
 "nbformat": 4,
 "nbformat_minor": 2
}
